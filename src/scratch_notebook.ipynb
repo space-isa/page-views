{
 "cells": [
  {
   "cell_type": "code",
   "execution_count": 30,
   "metadata": {
    "ExecuteTime": {
     "end_time": "2021-05-12T21:46:59.922755Z",
     "start_time": "2021-05-12T21:46:59.914009Z"
    }
   },
   "outputs": [],
   "source": [
    "import string\n",
    "from typing import List, Set, Dict, Tuple, Any\n",
    "from collections import OrderedDict, Counter\n",
    "from operator import getitem"
   ]
  },
  {
   "cell_type": "code",
   "execution_count": 26,
   "metadata": {
    "ExecuteTime": {
     "end_time": "2021-05-12T00:29:11.072142Z",
     "start_time": "2021-05-12T00:29:11.038213Z"
    }
   },
   "outputs": [],
   "source": [
    "# Using a subsample of the dataset (first 100 rows)\n",
    "\n",
    "data = [['1496253932', '/search?q=geophysics', '', '1689'], ['1496253946', '/repository/1207', '/search?q=geophysics', '1689'], ['1496253979', '/repository/8057', '/search?q=geophysics', '1689'], ['1496229649', '/search?q=millstream', '', '7040'], ['1496229668', '/repository/8947', '/search?q=millstream', '7040'], ['1496229692', '/repository/7436', '/search?q=millstream', '7040'], ['1496229666', '/repository/4531', '/search?q=millstream', '7040'], ['1496280938', '/search?q=sibyllist', '', '4190'], ['1496280958', '/repository/8561', '/search?q=sibyllist', '4190'], ['1496280949', '/repository/1748', '/search?q=sibyllist', '4190'], ['1496256457', '/search?q=protocanonical', '', '214'], ['1496256488', '/repository/4345', '/search?q=protocanonical', '214'], ['1496256490', '/repository/2128', '/search?q=protocanonical', '214'], ['1496256514', '/repository/9783', '/search?q=protocanonical', '214'], ['1496259900', '/search?q=kerchunk', '', '2340'], ['1496259937', '/repository/6248', '/search?q=kerchunk', '2340'], ['1496259941', '/repository/5532', '/search?q=kerchunk', '2340'], ['1496278788', '/search?q=postulate', '', '1614'], ['1496278829', '/repository/1357', '/search?q=postulate', '1614'], ['1496278811', '/repository/3555', '/search?q=postulate', '1614'], ['1496278832', '/repository/4017', '/search?q=postulate', '1614'], ['1496278795', '/repository/2714', '/search?q=postulate', '1614'], ['1496222098', '/search?q=frab', '', '4054'], ['1496222114', '/repository/4106', '/search?q=frab', '4054'], ['1496275524', '/search?q=lootie', '', '9489'], ['1496275562', '/repository/9824', '/search?q=lootie', '9489'], ['1496265850', '/search?q=hemosalpinx', '', '380'], ['1496265904', '/repository/7148', '/search?q=hemosalpinx', '380'], ['1496265878', '/repository/1860', '/search?q=hemosalpinx', '380'], ['1496265857', '/repository/3453', '/search?q=hemosalpinx', '380'], ['1496265855', '/repository/7493', '/search?q=hemosalpinx', '380'], ['1496220492', '/search?q=Paganalia', '', '6957'], ['1496220541', '/repository/3273', '/search?q=Paganalia', '6957'], ['1496220538', '/repository/5270', '/search?q=Paganalia', '6957'], ['1496220526', '/repository/776', '/search?q=Paganalia', '6957'], ['1496220530', '/repository/3591', '/search?q=Paganalia', '6957'], ['1496267999', '/search?q=operette', '', '473'], ['1496268033', '/repository/7833', '/search?q=operette', '473'], ['1496268038', '/repository/3690', '/search?q=operette', '473'], ['1496268051', '/repository/6739', '/search?q=operette', '473'], ['1496242543', '/search?q=coachmaking', '', '9043'], ['1496242558', '/repository/3431', '/search?q=coachmaking', '9043'], ['1496242557', '/repository/7407', '/search?q=coachmaking', '9043'], ['1496204988', '/search?q=fuelizer', '', '172'], ['1496205044', '/repository/1975', '/search?q=fuelizer', '172'], ['1496205013', '/repository/3787', '/search?q=fuelizer', '172'], ['1496205021', '/repository/8828', '/search?q=fuelizer', '172'], ['1496239167', '/search?q=squamulae', '', '530'], ['1496239202', '/repository/2189', '/search?q=squamulae', '530'], ['1496239200', '/repository/5572', '/search?q=squamulae', '530'], ['1496276380', '/search?q=frilled', '', '4218'], ['1496276426', '/repository/370', '/search?q=frilled', '4218'], ['1496276398', '/repository/2525', '/search?q=frilled', '4218'], ['1496276437', '/repository/6506', '/search?q=frilled', '4218'], ['1496234187', '/search?q=uningeniously', '', '801'], ['1496234195', '/repository/7362', '/search?q=uningeniously', '801'], ['1496234237', '/repository/7939', '/search?q=uningeniously', '801'], ['1496234190', '/repository/9113', '/search?q=uningeniously', '801'], ['1496234211', '/repository/8592', '/search?q=uningeniously', '801'], ['1496203289', '/search?q=kerchunk', '', '8364'], ['1496203293', '/repository/494', '/search?q=kerchunk', '8364'], ['1496203312', '/repository/7137', '/search?q=kerchunk', '8364'], ['1496243224', '/search?q=trombidiasis', '', '923'], ['1496243275', '/repository/7230', '/search?q=trombidiasis', '923'], ['1496243229', '/repository/3620', '/search?q=trombidiasis', '923'], ['1496243268', '/repository/3261', '/search?q=trombidiasis', '923'], ['1496230963', '/search?q=Sabbatic', '', '6083'], ['1496230985', '/repository/1802', '/search?q=Sabbatic', '6083'], ['1496230169', '/search?q=rimosely', '', '3355'], ['1496230227', '/repository/8296', '/search?q=rimosely', '3355'], ['1496230197', '/repository/6311', '/search?q=rimosely', '3355'], ['1496230204', '/repository/4403', '/search?q=rimosely', '3355'], ['1496230222', '/repository/8805', '/search?q=rimosely', '3355'], ['1496272812', '/search?q=myeloplax', '', '2582'], ['1496272838', '/repository/2970', '/search?q=myeloplax', '2582'], ['1496272818', '/repository/462', '/search?q=myeloplax', '2582'], ['1496272868', '/repository/9374', '/search?q=myeloplax', '2582'], ['1496272870', '/repository/3053', '/search?q=myeloplax', '2582'], ['1496219765', '/search?q=shavester', '', '2123'], ['1496219821', '/repository/6113', '/search?q=shavester', '2123'], ['1496219824', '/repository/4042', '/search?q=shavester', '2123'], ['1496275683', '/search?q=entosphere', '', '2122'], ['1496275704', '/repository/8350', '/search?q=entosphere', '2122'], ['1496275687', '/repository/5738', '/search?q=entosphere', '2122'], ['1496275707', '/repository/8150', '/search?q=entosphere', '2122'], ['1496275730', '/repository/4423', '/search?q=entosphere', '2122'], ['1496237632', '/search?q=geophysics', '', '6089'], ['1496237691', '/repository/1526', '/search?q=geophysics', '6089'], ['1496256359', '/search?q=lederite', '', '7858'], ['1496256416', '/repository/167', '/search?q=lederite', '7858'], ['1496231156', '/search?q=miserably', '', '5357'], ['1496231206', '/repository/345', '/search?q=miserably', '5357'], ['1496231199', '/repository/8027', '/search?q=miserably', '5357'], ['1496245812', '/search?q=pantun', '', '1288'], ['1496245865', '/repository/6740', '/search?q=pantun', '1288'], ['1496245834', '/repository/358', '/search?q=pantun', '1288'], ['1496245857', '/repository/2348', '/search?q=pantun', '1288'], ['1496266646', '/search?q=Lahuli', '', '8321'], ['1496266675', '/repository/3222', '/search?q=Lahuli', '8321'], ['1496266681', '/repository/4404', '/search?q=Lahuli', '8321']]"
   ]
  },
  {
   "cell_type": "code",
   "execution_count": 3,
   "metadata": {
    "ExecuteTime": {
     "end_time": "2021-05-11T22:21:04.632706Z",
     "start_time": "2021-05-11T22:21:04.587733Z"
    }
   },
   "outputs": [
    {
     "name": "stdout",
     "output_type": "stream",
     "text": [
      "100\n"
     ]
    }
   ],
   "source": [
    "print(len(data))"
   ]
  },
  {
   "cell_type": "code",
   "execution_count": 4,
   "metadata": {
    "ExecuteTime": {
     "end_time": "2021-05-11T22:21:04.863463Z",
     "start_time": "2021-05-11T22:21:04.646110Z"
    }
   },
   "outputs": [
    {
     "name": "stdout",
     "output_type": "stream",
     "text": [
      "[['1496253932', '/search?q=geophysics', '', '1689'], ['1496253946', '/repository/1207', '/search?q=geophysics', '1689'], ['1496253979', '/repository/8057', '/search?q=geophysics', '1689'], ['1496229649', '/search?q=millstream', '', '7040'], ['1496229668', '/repository/8947', '/search?q=millstream', '7040'], ['1496229692', '/repository/7436', '/search?q=millstream', '7040'], ['1496229666', '/repository/4531', '/search?q=millstream', '7040'], ['1496280938', '/search?q=sibyllist', '', '4190'], ['1496280958', '/repository/8561', '/search?q=sibyllist', '4190'], ['1496280949', '/repository/1748', '/search?q=sibyllist', '4190'], ['1496256457', '/search?q=protocanonical', '', '214'], ['1496256488', '/repository/4345', '/search?q=protocanonical', '214'], ['1496256490', '/repository/2128', '/search?q=protocanonical', '214'], ['1496256514', '/repository/9783', '/search?q=protocanonical', '214'], ['1496259900', '/search?q=kerchunk', '', '2340'], ['1496259937', '/repository/6248', '/search?q=kerchunk', '2340'], ['1496259941', '/repository/5532', '/search?q=kerchunk', '2340'], ['1496278788', '/search?q=postulate', '', '1614'], ['1496278829', '/repository/1357', '/search?q=postulate', '1614'], ['1496278811', '/repository/3555', '/search?q=postulate', '1614'], ['1496278832', '/repository/4017', '/search?q=postulate', '1614'], ['1496278795', '/repository/2714', '/search?q=postulate', '1614'], ['1496222098', '/search?q=frab', '', '4054'], ['1496222114', '/repository/4106', '/search?q=frab', '4054'], ['1496275524', '/search?q=lootie', '', '9489'], ['1496275562', '/repository/9824', '/search?q=lootie', '9489'], ['1496265850', '/search?q=hemosalpinx', '', '380'], ['1496265904', '/repository/7148', '/search?q=hemosalpinx', '380'], ['1496265878', '/repository/1860', '/search?q=hemosalpinx', '380'], ['1496265857', '/repository/3453', '/search?q=hemosalpinx', '380'], ['1496265855', '/repository/7493', '/search?q=hemosalpinx', '380'], ['1496220492', '/search?q=Paganalia', '', '6957'], ['1496220541', '/repository/3273', '/search?q=Paganalia', '6957'], ['1496220538', '/repository/5270', '/search?q=Paganalia', '6957'], ['1496220526', '/repository/776', '/search?q=Paganalia', '6957'], ['1496220530', '/repository/3591', '/search?q=Paganalia', '6957'], ['1496267999', '/search?q=operette', '', '473'], ['1496268033', '/repository/7833', '/search?q=operette', '473'], ['1496268038', '/repository/3690', '/search?q=operette', '473'], ['1496268051', '/repository/6739', '/search?q=operette', '473'], ['1496242543', '/search?q=coachmaking', '', '9043'], ['1496242558', '/repository/3431', '/search?q=coachmaking', '9043'], ['1496242557', '/repository/7407', '/search?q=coachmaking', '9043'], ['1496204988', '/search?q=fuelizer', '', '172'], ['1496205044', '/repository/1975', '/search?q=fuelizer', '172'], ['1496205013', '/repository/3787', '/search?q=fuelizer', '172'], ['1496205021', '/repository/8828', '/search?q=fuelizer', '172'], ['1496239167', '/search?q=squamulae', '', '530'], ['1496239202', '/repository/2189', '/search?q=squamulae', '530'], ['1496239200', '/repository/5572', '/search?q=squamulae', '530'], ['1496276380', '/search?q=frilled', '', '4218'], ['1496276426', '/repository/370', '/search?q=frilled', '4218'], ['1496276398', '/repository/2525', '/search?q=frilled', '4218'], ['1496276437', '/repository/6506', '/search?q=frilled', '4218'], ['1496234187', '/search?q=uningeniously', '', '801'], ['1496234195', '/repository/7362', '/search?q=uningeniously', '801'], ['1496234237', '/repository/7939', '/search?q=uningeniously', '801'], ['1496234190', '/repository/9113', '/search?q=uningeniously', '801'], ['1496234211', '/repository/8592', '/search?q=uningeniously', '801'], ['1496203289', '/search?q=kerchunk', '', '8364'], ['1496203293', '/repository/494', '/search?q=kerchunk', '8364'], ['1496203312', '/repository/7137', '/search?q=kerchunk', '8364'], ['1496243224', '/search?q=trombidiasis', '', '923'], ['1496243275', '/repository/7230', '/search?q=trombidiasis', '923'], ['1496243229', '/repository/3620', '/search?q=trombidiasis', '923'], ['1496243268', '/repository/3261', '/search?q=trombidiasis', '923'], ['1496230963', '/search?q=Sabbatic', '', '6083'], ['1496230985', '/repository/1802', '/search?q=Sabbatic', '6083'], ['1496230169', '/search?q=rimosely', '', '3355'], ['1496230227', '/repository/8296', '/search?q=rimosely', '3355'], ['1496230197', '/repository/6311', '/search?q=rimosely', '3355'], ['1496230204', '/repository/4403', '/search?q=rimosely', '3355'], ['1496230222', '/repository/8805', '/search?q=rimosely', '3355'], ['1496272812', '/search?q=myeloplax', '', '2582'], ['1496272838', '/repository/2970', '/search?q=myeloplax', '2582'], ['1496272818', '/repository/462', '/search?q=myeloplax', '2582'], ['1496272868', '/repository/9374', '/search?q=myeloplax', '2582'], ['1496272870', '/repository/3053', '/search?q=myeloplax', '2582'], ['1496219765', '/search?q=shavester', '', '2123'], ['1496219821', '/repository/6113', '/search?q=shavester', '2123'], ['1496219824', '/repository/4042', '/search?q=shavester', '2123'], ['1496275683', '/search?q=entosphere', '', '2122'], ['1496275704', '/repository/8350', '/search?q=entosphere', '2122'], ['1496275687', '/repository/5738', '/search?q=entosphere', '2122'], ['1496275707', '/repository/8150', '/search?q=entosphere', '2122'], ['1496275730', '/repository/4423', '/search?q=entosphere', '2122'], ['1496237632', '/search?q=geophysics', '', '6089'], ['1496237691', '/repository/1526', '/search?q=geophysics', '6089'], ['1496256359', '/search?q=lederite', '', '7858'], ['1496256416', '/repository/167', '/search?q=lederite', '7858'], ['1496231156', '/search?q=miserably', '', '5357'], ['1496231206', '/repository/345', '/search?q=miserably', '5357'], ['1496231199', '/repository/8027', '/search?q=miserably', '5357'], ['1496245812', '/search?q=pantun', '', '1288'], ['1496245865', '/repository/6740', '/search?q=pantun', '1288'], ['1496245834', '/repository/358', '/search?q=pantun', '1288'], ['1496245857', '/repository/2348', '/search?q=pantun', '1288'], ['1496266646', '/search?q=Lahuli', '', '8321'], ['1496266675', '/repository/3222', '/search?q=Lahuli', '8321'], ['1496266681', '/repository/4404', '/search?q=Lahuli', '8321']]\n"
     ]
    }
   ],
   "source": [
    "print(data)"
   ]
  },
  {
   "cell_type": "code",
   "execution_count": 5,
   "metadata": {
    "ExecuteTime": {
     "end_time": "2021-05-11T22:21:04.895060Z",
     "start_time": "2021-05-11T22:21:04.880353Z"
    }
   },
   "outputs": [],
   "source": [
    "def clean_query(path: str) -> str:\n",
    "    \"\"\"Take a path and extract and clean query keyword.\"\"\"\n",
    "\n",
    "    punctuation = string.punctuation\n",
    "    if \"search\" in path:\n",
    "        term = path.split('=')[1]\n",
    "        term = term.lower()\n",
    "        #  remove punctuation\n",
    "        term = term.translate(str.maketrans(\"\", \"\", punctuation))\n",
    "        return term\n",
    "    else:\n",
    "        print(\"The path should contain a search key.\")"
   ]
  },
  {
   "cell_type": "code",
   "execution_count": 6,
   "metadata": {
    "ExecuteTime": {
     "end_time": "2021-05-11T22:21:04.931432Z",
     "start_time": "2021-05-11T22:21:04.903356Z"
    }
   },
   "outputs": [],
   "source": [
    "def find_unique_attributes(dataset: List[List[str]],\n",
    "                                                column: int,\n",
    "                                                path: bool = True) -> Tuple[List[str], List[str]]:\n",
    "    all_items = []\n",
    "    if path:\n",
    "        for i in range(len(dataset)):\n",
    "            path = dataset[i][column]\n",
    "            if \"search\" in path:\n",
    "                term = clean_query(path)\n",
    "                all_items.append(term)\n",
    "        unique_items = list(set(all_items))\n",
    "        unique_items.sort()\n",
    "    else:\n",
    "        for row in dataset:\n",
    "            all_items.append(row[column])\n",
    "            unique_items = list(set(all_items))\n",
    "    print(\"\"\" \n",
    "          Out of {:,} total items, there are {:,} unique items. \n",
    "          \"\"\".format(len(all_items), len(unique_items)))\n",
    "\n",
    "    return all_items, unique_items"
   ]
  },
  {
   "cell_type": "code",
   "execution_count": 7,
   "metadata": {
    "ExecuteTime": {
     "end_time": "2021-05-11T22:21:04.954353Z",
     "start_time": "2021-05-11T22:21:04.938649Z"
    }
   },
   "outputs": [
    {
     "name": "stdout",
     "output_type": "stream",
     "text": [
      " \n",
      "          Out of 28 total items, there are 26 unique items. \n",
      "          \n"
     ]
    }
   ],
   "source": [
    "terms, unique_terms = find_unique_attributes(data, 1, path=True)"
   ]
  },
  {
   "cell_type": "code",
   "execution_count": 8,
   "metadata": {
    "ExecuteTime": {
     "end_time": "2021-05-11T22:21:04.973807Z",
     "start_time": "2021-05-11T22:21:04.959896Z"
    }
   },
   "outputs": [
    {
     "name": "stdout",
     "output_type": "stream",
     "text": [
      " \n",
      "          Out of 100 total items, there are 28 unique items. \n",
      "          \n"
     ]
    }
   ],
   "source": [
    "cids, unique_cids = find_unique_attributes(data, 3, path=False)"
   ]
  },
  {
   "cell_type": "code",
   "execution_count": 9,
   "metadata": {
    "ExecuteTime": {
     "end_time": "2021-05-11T22:21:05.027419Z",
     "start_time": "2021-05-11T22:21:05.001637Z"
    }
   },
   "outputs": [
    {
     "name": "stdout",
     "output_type": "stream",
     "text": [
      "100\n"
     ]
    }
   ],
   "source": [
    "print(len(data))"
   ]
  },
  {
   "cell_type": "code",
   "execution_count": 11,
   "metadata": {
    "ExecuteTime": {
     "end_time": "2021-05-11T22:21:20.282570Z",
     "start_time": "2021-05-11T22:21:20.251158Z"
    }
   },
   "outputs": [
    {
     "name": "stdout",
     "output_type": "stream",
     "text": [
      "{'coachmaking': {'9043': {'start time': 1496242543, 'num search clicks': 2, 'end times': [1496242558, 1496242557], 'total time': 15}}, 'entosphere': {'2122': {'start time': 1496275683, 'num search clicks': 4, 'end times': [1496275704, 1496275687, 1496275707, 1496275730], 'total time': 47}}, 'frab': {'4054': {'start time': 1496222098, 'num search clicks': 1, 'end times': [1496222114], 'total time': 16}}, 'frilled': {'4218': {'start time': 1496276380, 'num search clicks': 3, 'end times': [1496276426, 1496276398, 1496276437], 'total time': 57}}, 'fuelizer': {'172': {'start time': 1496204988, 'num search clicks': 3, 'end times': [1496205044, 1496205013, 1496205021], 'total time': 56}}, 'geophysics': {'1689': {'start time': 1496253932, 'num search clicks': 2, 'end times': [1496253946, 1496253979], 'total time': 47}, '6089': {'start time': 1496237632, 'num search clicks': 1, 'end times': [1496237691], 'total time': 59}}, 'hemosalpinx': {'380': {'start time': 1496265850, 'num search clicks': 4, 'end times': [1496265904, 1496265878, 1496265857, 1496265855], 'total time': 54}}, 'kerchunk': {'2340': {'start time': 1496259900, 'num search clicks': 2, 'end times': [1496259937, 1496259941], 'total time': 41}, '8364': {'start time': 1496203289, 'num search clicks': 2, 'end times': [1496203293, 1496203312], 'total time': 23}}, 'lahuli': {'8321': {'start time': 1496266646, 'num search clicks': 2, 'end times': [1496266675, 1496266681], 'total time': 35}}, 'lederite': {'7858': {'start time': 1496256359, 'num search clicks': 1, 'end times': [1496256416], 'total time': 57}}, 'lootie': {'9489': {'start time': 1496275524, 'num search clicks': 1, 'end times': [1496275562], 'total time': 38}}, 'millstream': {'7040': {'start time': 1496229649, 'num search clicks': 3, 'end times': [1496229668, 1496229692, 1496229666], 'total time': 43}}, 'miserably': {'5357': {'start time': 1496231156, 'num search clicks': 2, 'end times': [1496231206, 1496231199], 'total time': 50}}, 'myeloplax': {'2582': {'start time': 1496272812, 'num search clicks': 4, 'end times': [1496272838, 1496272818, 1496272868, 1496272870], 'total time': 58}}, 'operette': {'473': {'start time': 1496267999, 'num search clicks': 3, 'end times': [1496268033, 1496268038, 1496268051], 'total time': 52}}, 'paganalia': {'6957': {'start time': 1496220492, 'num search clicks': 4, 'end times': [1496220541, 1496220538, 1496220526, 1496220530], 'total time': 49}}, 'pantun': {'1288': {'start time': 1496245812, 'num search clicks': 3, 'end times': [1496245865, 1496245834, 1496245857], 'total time': 53}}, 'postulate': {'1614': {'start time': 1496278788, 'num search clicks': 4, 'end times': [1496278829, 1496278811, 1496278832, 1496278795], 'total time': 44}}, 'protocanonical': {'214': {'start time': 1496256457, 'num search clicks': 3, 'end times': [1496256488, 1496256490, 1496256514], 'total time': 57}}, 'rimosely': {'3355': {'start time': 1496230169, 'num search clicks': 4, 'end times': [1496230227, 1496230197, 1496230204, 1496230222], 'total time': 58}}, 'sabbatic': {'6083': {'start time': 1496230963, 'num search clicks': 1, 'end times': [1496230985], 'total time': 22}}, 'shavester': {'2123': {'start time': 1496219765, 'num search clicks': 2, 'end times': [1496219821, 1496219824], 'total time': 59}}, 'sibyllist': {'4190': {'start time': 1496280938, 'num search clicks': 2, 'end times': [1496280958, 1496280949], 'total time': 20}}, 'squamulae': {'530': {'start time': 1496239167, 'num search clicks': 2, 'end times': [1496239202, 1496239200], 'total time': 35}}, 'trombidiasis': {'923': {'start time': 1496243224, 'num search clicks': 3, 'end times': [1496243275, 1496243229, 1496243268], 'total time': 51}}, 'uningeniously': {'801': {'start time': 1496234187, 'num search clicks': 4, 'end times': [1496234195, 1496234237, 1496234190, 1496234211], 'total time': 50}}}\n"
     ]
    }
   ],
   "source": [
    "def create_dictionary(dataset: List[List[str]],\n",
    "                                      unique_terms: List[str]) -> Dict[str, Dict[str, Any]]:\n",
    "    \"\"\"Compile search data using query keyword and group by user client id.\"\"\"\n",
    "\n",
    "    my_dict = {query: {} for query in unique_terms}\n",
    "\n",
    "    for i in range(len(dataset)):\n",
    "        # path is an initial search\n",
    "        if dataset[i][2] == \"\":\n",
    "            keyword = clean_query(dataset[i][1])\n",
    "            start_time = int(data[i][0])\n",
    "            cid = dataset[i][3]\n",
    "            clicks = 0\n",
    "            nested_dict = my_dict[keyword]\n",
    "            nested_dict[cid] = {}\n",
    "            nested_dict[cid][\"start time\"] = start_time\n",
    "            nested_dict[cid][\"num search clicks\"] = clicks\n",
    "            nested_dict[cid][\"end times\"] = []\n",
    "\n",
    "        #  path referred by intial search\n",
    "        elif data[i][2] != \"\":\n",
    "            check_next = clean_query(data[i][2])\n",
    "            if keyword == check_next:\n",
    "                nested_dict[cid][\"num search clicks\"] += 1\n",
    "                end_time = int(dataset[i][0])\n",
    "                nested_dict[cid][\"end times\"].append(end_time)\n",
    "            else:\n",
    "                nested_dict[cid][\"num search clicks\"] += 1\n",
    "                end_time = int(dataset[i][0])\n",
    "                nested_dict[cid][\"end times\"].append(end_time)\n",
    "\n",
    "    #  calculate total time\n",
    "    for term in unique_terms:\n",
    "        for key, val in my_dict[term].items():\n",
    "            total_time = max(val[\"end times\"]) - val[\"start time\"]\n",
    "            val[\"total time\"] = total_time\n",
    "    return my_dict\n",
    "\n",
    "\n",
    "my_dict = create_dictionary(data, unique_terms)\n",
    "print(my_dict)"
   ]
  },
  {
   "cell_type": "code",
   "execution_count": 16,
   "metadata": {
    "ExecuteTime": {
     "end_time": "2021-05-11T22:33:09.815469Z",
     "start_time": "2021-05-11T22:33:09.798194Z"
    }
   },
   "outputs": [
    {
     "name": "stdout",
     "output_type": "stream",
     "text": [
      "{'coachmaking': {'results clicked': 2, 'num users': 1, 'total time': 15, 'av clicks per user': 2.0, 'av time per click': 7.5}, 'entosphere': {'results clicked': 4, 'num users': 1, 'total time': 47, 'av clicks per user': 4.0, 'av time per click': 11.75}, 'frab': {'results clicked': 1, 'num users': 1, 'total time': 16, 'av clicks per user': 1.0, 'av time per click': 16.0}, 'frilled': {'results clicked': 3, 'num users': 1, 'total time': 57, 'av clicks per user': 3.0, 'av time per click': 19.0}, 'fuelizer': {'results clicked': 3, 'num users': 1, 'total time': 56, 'av clicks per user': 3.0, 'av time per click': 18.666666666666668}, 'geophysics': {'results clicked': 3, 'num users': 2, 'total time': 106, 'av clicks per user': 0.5, 'av time per click': 59.0}, 'hemosalpinx': {'results clicked': 4, 'num users': 1, 'total time': 54, 'av clicks per user': 4.0, 'av time per click': 13.5}, 'kerchunk': {'results clicked': 4, 'num users': 2, 'total time': 64, 'av clicks per user': 1.0, 'av time per click': 11.5}, 'lahuli': {'results clicked': 2, 'num users': 1, 'total time': 35, 'av clicks per user': 2.0, 'av time per click': 17.5}, 'lederite': {'results clicked': 1, 'num users': 1, 'total time': 57, 'av clicks per user': 1.0, 'av time per click': 57.0}, 'lootie': {'results clicked': 1, 'num users': 1, 'total time': 38, 'av clicks per user': 1.0, 'av time per click': 38.0}, 'millstream': {'results clicked': 3, 'num users': 1, 'total time': 43, 'av clicks per user': 3.0, 'av time per click': 14.333333333333334}, 'miserably': {'results clicked': 2, 'num users': 1, 'total time': 50, 'av clicks per user': 2.0, 'av time per click': 25.0}, 'myeloplax': {'results clicked': 4, 'num users': 1, 'total time': 58, 'av clicks per user': 4.0, 'av time per click': 14.5}, 'operette': {'results clicked': 3, 'num users': 1, 'total time': 52, 'av clicks per user': 3.0, 'av time per click': 17.333333333333332}, 'paganalia': {'results clicked': 4, 'num users': 1, 'total time': 49, 'av clicks per user': 4.0, 'av time per click': 12.25}, 'pantun': {'results clicked': 3, 'num users': 1, 'total time': 53, 'av clicks per user': 3.0, 'av time per click': 17.666666666666668}, 'postulate': {'results clicked': 4, 'num users': 1, 'total time': 44, 'av clicks per user': 4.0, 'av time per click': 11.0}, 'protocanonical': {'results clicked': 3, 'num users': 1, 'total time': 57, 'av clicks per user': 3.0, 'av time per click': 19.0}, 'rimosely': {'results clicked': 4, 'num users': 1, 'total time': 58, 'av clicks per user': 4.0, 'av time per click': 14.5}, 'sabbatic': {'results clicked': 1, 'num users': 1, 'total time': 22, 'av clicks per user': 1.0, 'av time per click': 22.0}, 'shavester': {'results clicked': 2, 'num users': 1, 'total time': 59, 'av clicks per user': 2.0, 'av time per click': 29.5}, 'sibyllist': {'results clicked': 2, 'num users': 1, 'total time': 20, 'av clicks per user': 2.0, 'av time per click': 10.0}, 'squamulae': {'results clicked': 2, 'num users': 1, 'total time': 35, 'av clicks per user': 2.0, 'av time per click': 17.5}, 'trombidiasis': {'results clicked': 3, 'num users': 1, 'total time': 51, 'av clicks per user': 3.0, 'av time per click': 17.0}, 'uningeniously': {'results clicked': 4, 'num users': 1, 'total time': 50, 'av clicks per user': 4.0, 'av time per click': 12.5}}\n",
      "1246\n",
      "72\n"
     ]
    }
   ],
   "source": [
    "def aggregated_dictionary(compiled_dict: Dict[str, Dict[str, Any]],\n",
    "                                                unique_terms: List[str]) -> Dict[str, Dict[str, Any]]:\n",
    "    \"\"\"Aggregate search query data and place into new dictionary.\"\"\"\n",
    "\n",
    "    my_dict_agg = {\n",
    "        query: {\n",
    "            \"results clicked\": 0,\n",
    "            \"num users\": 0,\n",
    "            \"total time\": 0\n",
    "        }\n",
    "        for query in unique_terms\n",
    "    }\n",
    "    total_time_all = 0\n",
    "    total_clicks_all = 0\n",
    "\n",
    "    for term in unique_terms:\n",
    "        for key, val in compiled_dict[term].items():\n",
    "            if val and 'num search clicks' in val.keys():\n",
    "                num_clicks_sum = 0\n",
    "                total_time = 0\n",
    "                num_clicks_sum += val[\"num search clicks\"]\n",
    "                num_users = len(compiled_dict[term])\n",
    "                total_time += val[\"total time\"]\n",
    "                total_time_all += total_time\n",
    "                total_clicks_all += num_clicks_sum\n",
    "                my_dict_agg[term][\n",
    "                    \"results clicked\"] += num_clicks_sum  \n",
    "                my_dict_agg[term][\"num users\"] = num_users\n",
    "                my_dict_agg[term][\n",
    "                    \"total time\"] += total_time   \n",
    "                my_dict_agg[term][\n",
    "                    \"av clicks per user\"] = num_clicks_sum / num_users\n",
    "                my_dict_agg[term][\n",
    "                    \"av time per click\"] = total_time / num_clicks_sum\n",
    "\n",
    "    return my_dict_agg, total_time_all, total_clicks_all\n",
    "\n",
    "\n",
    "my_dict_agg, total_time_all, total_clicks_all = aggregated_dictionary(\n",
    "    my_dict, unique_terms)\n",
    "print(my_dict_agg)\n",
    "print(total_time_all)\n",
    "print(total_clicks_all)"
   ]
  },
  {
   "cell_type": "code",
   "execution_count": 17,
   "metadata": {
    "ExecuteTime": {
     "end_time": "2021-05-11T22:34:22.771562Z",
     "start_time": "2021-05-11T22:34:22.694207Z"
    }
   },
   "outputs": [],
   "source": [
    "def find_top_results(dictionary: Dict[str, Dict[str, Any]], \n",
    "                                     num_results: int, \n",
    "                                     result_key: str, \n",
    "                                     reverse: bool = True):\n",
    "    \"\"\"Create an ordered dictionary sorted by a user-defined key \n",
    "    and return the top N results in descending order.\"\"\"\n",
    "\n",
    "    most_freq_queries = []\n",
    "    result = OrderedDict(sorted(dictionary.items(), key = lambda x: getitem(x[1], result_key), reverse=reverse))\n",
    "    top_queries = list(result.keys())[:num_results]\n",
    "    most_freq = []\n",
    "    for query in top_queries:\n",
    "        result_val = result[query][result_key]\n",
    "        most_freq_queries.append((query, result_val))   \n",
    "    \n",
    "    return most_freq_queries"
   ]
  },
  {
   "cell_type": "code",
   "execution_count": 18,
   "metadata": {
    "ExecuteTime": {
     "end_time": "2021-05-11T22:34:28.110273Z",
     "start_time": "2021-05-11T22:34:28.094357Z"
    }
   },
   "outputs": [
    {
     "name": "stdout",
     "output_type": "stream",
     "text": [
      "The top 5 most issued queries are: [('geophysics', 2), ('kerchunk', 2), ('millstream', 1), ('sibyllist', 1), ('protocanonical', 1)]\n"
     ]
    }
   ],
   "source": [
    "# Q1: Top 5 most frequently issued queries (include counts).\n",
    "num_issued_queries = 5\n",
    "count_queries = Counter(terms)\n",
    "top_queries = count_queries.most_common(num_issued_queries)\n",
    "print(\"The top {} most issued queries are: {}\".format(num_issued_queries, top_queries))"
   ]
  },
  {
   "cell_type": "code",
   "execution_count": 19,
   "metadata": {
    "ExecuteTime": {
     "end_time": "2021-05-11T22:34:32.395764Z",
     "start_time": "2021-05-11T22:34:32.375691Z"
    }
   },
   "outputs": [
    {
     "name": "stdout",
     "output_type": "stream",
     "text": [
      "The top 5 queries in terms of total number of search results clicked: [('entosphere', 4), ('hemosalpinx', 4), ('kerchunk', 4), ('myeloplax', 4), ('paganalia', 4)]\n"
     ]
    }
   ],
   "source": [
    "# Q2: The top 5 queires in terms of total number of results clicked (include counts).\n",
    "top_clicked = 5\n",
    "most_freq_queries = find_top_results(my_dict_agg, top_clicked, \"results clicked\")\n",
    "print(\"The top {} queries in terms of total number of search results clicked: {}\".format(top_clicked, most_freq_queries))"
   ]
  },
  {
   "cell_type": "code",
   "execution_count": 20,
   "metadata": {
    "ExecuteTime": {
     "end_time": "2021-05-11T22:34:35.812862Z",
     "start_time": "2021-05-11T22:34:35.793274Z"
    }
   },
   "outputs": [
    {
     "name": "stdout",
     "output_type": "stream",
     "text": [
      "The average length of a search session is 17.31 seconds\n"
     ]
    }
   ],
   "source": [
    "# Q3: The average length of a search session\n",
    "# Total search time over the total number of searches\n",
    "average_search_session = total_time_all_queries / total_clicks_all_queries\n",
    "print(\"The average length of a search session is {:.2f} seconds\".format(\n",
    "    average_search_session))"
   ]
  },
  {
   "cell_type": "code",
   "execution_count": 1,
   "metadata": {
    "ExecuteTime": {
     "end_time": "2021-05-12T21:25:36.329400Z",
     "start_time": "2021-05-12T21:25:36.314562Z"
    }
   },
   "outputs": [],
   "source": [
    "import csv\n",
    "\n"
   ]
  },
  {
   "cell_type": "code",
   "execution_count": 25,
   "metadata": {
    "ExecuteTime": {
     "end_time": "2021-05-12T21:45:42.153053Z",
     "start_time": "2021-05-12T21:45:42.139877Z"
    }
   },
   "outputs": [
    {
     "name": "stdout",
     "output_type": "stream",
     "text": [
      "[['acorus', '10', '346', '10', '27'], ['actinula', '13', '602', '13', '33'], ['agatiform', '13', '517', '13', '34'], ['analepsy', '10', '369', '10', '26'], ['anatine', '7', '230', '7', '15'], ['anhydremia', '9', '331', '9', '17'], ['antiradiation', '10', '408', '10', '24'], ['archaic', '15', '566', '15', '27'], ['argasidae', '15', '637', '15', '36'], ['assure', '6', '233', '6', '16']]\n"
     ]
    }
   ],
   "source": [
    "# Use to answer Q1-3\n",
    "# query = index 0\n",
    "# Num queries = index 1 (Q1)\n",
    "# total time = index 2 (Q3, divide by results clicked for av)\n",
    "# results clicked = 4 (Q2)\n",
    "agg_data = []\n",
    "total_times = []\n",
    "results_clicked = []\n",
    "with open(filepath, mode='r') as datafile:\n",
    "    for row in csv.reader(datafile):\n",
    "        agg_data.append(row[:5])\n",
    "        total_times.append(float(row[2]))\n",
    "        results_clicked.append(float(row[4]))\n"
   ]
  },
  {
   "cell_type": "code",
   "execution_count": 9,
   "metadata": {
    "ExecuteTime": {
     "end_time": "2021-05-12T21:36:00.407007Z",
     "start_time": "2021-05-12T21:36:00.402541Z"
    }
   },
   "outputs": [],
   "source": [
    "from collections import Counter"
   ]
  },
  {
   "cell_type": "code",
   "execution_count": 26,
   "metadata": {
    "ExecuteTime": {
     "end_time": "2021-05-12T21:45:46.058864Z",
     "start_time": "2021-05-12T21:45:46.052825Z"
    }
   },
   "outputs": [
    {
     "name": "stdout",
     "output_type": "stream",
     "text": [
      "16.168356997971603\n"
     ]
    }
   ],
   "source": [
    "sum_time = sum(total_times)\n",
    "sum_clicks = sum(results_clicked)\n",
    "average_time_per_query = sum_time/sum_clicks\n",
    "\n",
    "print(average_time_per_query)"
   ]
  },
  {
   "cell_type": "code",
   "execution_count": 32,
   "metadata": {
    "ExecuteTime": {
     "end_time": "2021-05-12T21:48:02.695824Z",
     "start_time": "2021-05-12T21:48:02.686071Z"
    }
   },
   "outputs": [],
   "source": [
    "N = 5"
   ]
  },
  {
   "cell_type": "code",
   "execution_count": 44,
   "metadata": {
    "ExecuteTime": {
     "end_time": "2021-05-12T21:59:03.054158Z",
     "start_time": "2021-05-12T21:59:03.047905Z"
    }
   },
   "outputs": [
    {
     "name": "stdout",
     "output_type": "stream",
     "text": [
      "{'acorus': {}, 'actinula': {}, 'agatiform': {}, 'analepsy': {}, 'anatine': {}, 'anhydremia': {}, 'antiradiation': {}, 'archaic': {}, 'argasidae': {}, 'assure': {}, 'beaconless': {}, 'bodach': {}, 'certifiable': {}, 'coachmaking': {}, 'complexionably': {}, 'contrabandage': {}, 'cowled': {}, 'crood': {}, 'crop': {}, 'disagreeable': {}, 'dispend': {}, 'dodoism': {}, 'drubbing': {}, 'emancipate': {}, 'entosphere': {}, 'exsanguinity': {}, 'extemporariness': {}, 'fairground': {}, 'flammiferous': {}, 'frab': {}, 'frilled': {}, 'fuelizer': {}, 'gaudete': {}, 'geophysics': {}, 'grike': {}, 'hemosalpinx': {}, 'heretic': {}, 'incircumscription': {}, 'kairine': {}, 'kerchunk': {}, 'lahuli': {}, 'lederite': {}, 'linene': {}, 'logicize': {}, 'lootie': {}, 'maltworm': {}, 'miliolite': {}, 'millstream': {}, 'miserably': {}, 'myeloplax': {}, 'nasua': {}, 'natalia': {}, 'operette': {}, 'paganalia': {}, 'paleoethnologist': {}, 'pantun': {}, 'pennatilobate': {}, 'perisalpingitis': {}, 'pervigilium': {}, 'plainness': {}, 'postulate': {}, 'preconfinedly': {}, 'prophetry': {}, 'proterandrous': {}, 'protocanonical': {}, 'psalmody': {}, 'punctuative': {}, 'punitional': {}, 'quadrifolious': {}, 'rigmaree': {}, 'rimosely': {}, 'roentgenographically': {}, 'rommany': {}, 'sabbatic': {}, 'scolion': {}, 'semiadherent': {}, 'shavester': {}, 'sibyllist': {}, 'sorbonical': {}, 'squamulae': {}, 'stridulate': {}, 'subimpressed': {}, 'superemphasis': {}, 'supersubstantiality': {}, 'testingly': {}, 'thirsting': {}, 'tide': {}, 'tigris': {}, 'toxodon': {}, 'trenchantness': {}, 'trepidancy': {}, 'trigonometry': {}, 'trombidiasis': {}, 'unbesmirched': {}, 'unexerted': {}, 'unfurrowable': {}, 'uningeniously': {}, 'unnestled': {}, 'untamely': {}, 'vestee': {}}\n"
     ]
    }
   ],
   "source": [
    "# create agg dict\n",
    "agg_dict = {row[0]: {} for row in agg_data}\n",
    "print(agg_dict)"
   ]
  },
  {
   "cell_type": "code",
   "execution_count": 45,
   "metadata": {
    "ExecuteTime": {
     "end_time": "2021-05-12T21:59:12.857708Z",
     "start_time": "2021-05-12T21:59:12.847400Z"
    }
   },
   "outputs": [
    {
     "name": "stdout",
     "output_type": "stream",
     "text": [
      "{'acorus': {'num queries': 10, 'num results clicked': 27}, 'actinula': {'num queries': 13, 'num results clicked': 33}, 'agatiform': {'num queries': 13, 'num results clicked': 34}, 'analepsy': {'num queries': 10, 'num results clicked': 26}, 'anatine': {'num queries': 7, 'num results clicked': 15}, 'anhydremia': {'num queries': 9, 'num results clicked': 17}, 'antiradiation': {'num queries': 10, 'num results clicked': 24}, 'archaic': {'num queries': 15, 'num results clicked': 27}, 'argasidae': {'num queries': 15, 'num results clicked': 36}, 'assure': {'num queries': 6, 'num results clicked': 16}, 'beaconless': {'num queries': 16, 'num results clicked': 39}, 'bodach': {'num queries': 9, 'num results clicked': 14}, 'certifiable': {'num queries': 9, 'num results clicked': 20}, 'coachmaking': {'num queries': 16, 'num results clicked': 34}, 'complexionably': {'num queries': 9, 'num results clicked': 24}, 'contrabandage': {'num queries': 16, 'num results clicked': 44}, 'cowled': {'num queries': 10, 'num results clicked': 23}, 'crood': {'num queries': 10, 'num results clicked': 22}, 'crop': {'num queries': 21, 'num results clicked': 58}, 'disagreeable': {'num queries': 6, 'num results clicked': 16}, 'dispend': {'num queries': 9, 'num results clicked': 20}, 'dodoism': {'num queries': 8, 'num results clicked': 16}, 'drubbing': {'num queries': 9, 'num results clicked': 21}, 'emancipate': {'num queries': 8, 'num results clicked': 22}, 'entosphere': {'num queries': 19, 'num results clicked': 45}, 'exsanguinity': {'num queries': 14, 'num results clicked': 40}, 'extemporariness': {'num queries': 6, 'num results clicked': 13}, 'fairground': {'num queries': 7, 'num results clicked': 23}, 'flammiferous': {'num queries': 12, 'num results clicked': 29}, 'frab': {'num queries': 5, 'num results clicked': 12}, 'frilled': {'num queries': 6, 'num results clicked': 17}, 'fuelizer': {'num queries': 11, 'num results clicked': 35}, 'gaudete': {'num queries': 17, 'num results clicked': 37}, 'geophysics': {'num queries': 13, 'num results clicked': 36}, 'grike': {'num queries': 7, 'num results clicked': 15}, 'hemosalpinx': {'num queries': 16, 'num results clicked': 47}, 'heretic': {'num queries': 9, 'num results clicked': 26}, 'incircumscription': {'num queries': 9, 'num results clicked': 25}, 'kairine': {'num queries': 4, 'num results clicked': 9}, 'kerchunk': {'num queries': 16, 'num results clicked': 46}, 'lahuli': {'num queries': 9, 'num results clicked': 26}, 'lederite': {'num queries': 14, 'num results clicked': 28}, 'linene': {'num queries': 8, 'num results clicked': 25}, 'logicize': {'num queries': 12, 'num results clicked': 30}, 'lootie': {'num queries': 10, 'num results clicked': 22}, 'maltworm': {'num queries': 13, 'num results clicked': 28}, 'miliolite': {'num queries': 12, 'num results clicked': 39}, 'millstream': {'num queries': 9, 'num results clicked': 26}, 'miserably': {'num queries': 9, 'num results clicked': 23}, 'myeloplax': {'num queries': 7, 'num results clicked': 22}, 'nasua': {'num queries': 13, 'num results clicked': 29}, 'natalia': {'num queries': 15, 'num results clicked': 44}, 'operette': {'num queries': 16, 'num results clicked': 38}, 'paganalia': {'num queries': 9, 'num results clicked': 25}, 'paleoethnologist': {'num queries': 10, 'num results clicked': 27}, 'pantun': {'num queries': 9, 'num results clicked': 17}, 'pennatilobate': {'num queries': 11, 'num results clicked': 32}, 'perisalpingitis': {'num queries': 12, 'num results clicked': 27}, 'pervigilium': {'num queries': 9, 'num results clicked': 27}, 'plainness': {'num queries': 3, 'num results clicked': 6}, 'postulate': {'num queries': 12, 'num results clicked': 22}, 'preconfinedly': {'num queries': 15, 'num results clicked': 34}, 'prophetry': {'num queries': 2, 'num results clicked': 5}, 'proterandrous': {'num queries': 7, 'num results clicked': 22}, 'protocanonical': {'num queries': 11, 'num results clicked': 25}, 'psalmody': {'num queries': 7, 'num results clicked': 16}, 'punctuative': {'num queries': 7, 'num results clicked': 17}, 'punitional': {'num queries': 11, 'num results clicked': 27}, 'quadrifolious': {'num queries': 9, 'num results clicked': 22}, 'rigmaree': {'num queries': 9, 'num results clicked': 21}, 'rimosely': {'num queries': 10, 'num results clicked': 26}, 'roentgenographically': {'num queries': 15, 'num results clicked': 30}, 'rommany': {'num queries': 10, 'num results clicked': 21}, 'sabbatic': {'num queries': 11, 'num results clicked': 28}, 'scolion': {'num queries': 6, 'num results clicked': 17}, 'semiadherent': {'num queries': 4, 'num results clicked': 8}, 'shavester': {'num queries': 14, 'num results clicked': 41}, 'sibyllist': {'num queries': 10, 'num results clicked': 24}, 'sorbonical': {'num queries': 12, 'num results clicked': 27}, 'squamulae': {'num queries': 10, 'num results clicked': 21}, 'stridulate': {'num queries': 3, 'num results clicked': 8}, 'subimpressed': {'num queries': 10, 'num results clicked': 13}, 'superemphasis': {'num queries': 9, 'num results clicked': 23}, 'supersubstantiality': {'num queries': 4, 'num results clicked': 11}, 'testingly': {'num queries': 9, 'num results clicked': 21}, 'thirsting': {'num queries': 8, 'num results clicked': 20}, 'tide': {'num queries': 4, 'num results clicked': 11}, 'tigris': {'num queries': 6, 'num results clicked': 11}, 'toxodon': {'num queries': 14, 'num results clicked': 30}, 'trenchantness': {'num queries': 9, 'num results clicked': 19}, 'trepidancy': {'num queries': 5, 'num results clicked': 9}, 'trigonometry': {'num queries': 15, 'num results clicked': 38}, 'trombidiasis': {'num queries': 10, 'num results clicked': 29}, 'unbesmirched': {'num queries': 6, 'num results clicked': 16}, 'unexerted': {'num queries': 8, 'num results clicked': 21}, 'unfurrowable': {'num queries': 10, 'num results clicked': 24}, 'uningeniously': {'num queries': 10, 'num results clicked': 22}, 'unnestled': {'num queries': 9, 'num results clicked': 26}, 'untamely': {'num queries': 6, 'num results clicked': 16}, 'vestee': {'num queries': 8, 'num results clicked': 19}}\n"
     ]
    }
   ],
   "source": [
    "for row in agg_data:\n",
    "    agg_dict[row[0]][\"num queries\"] = int(row[1])\n",
    "    agg_dict[row[0]][\"num results clicked\"] = int(row[4])"
   ]
  },
  {
   "cell_type": "code",
   "execution_count": 31,
   "metadata": {
    "ExecuteTime": {
     "end_time": "2021-05-12T21:47:04.220733Z",
     "start_time": "2021-05-12T21:47:04.203906Z"
    }
   },
   "outputs": [],
   "source": [
    "def find_top_results(dictionary: Dict[str, Dict[str, Any]],\n",
    "                                     num_results: int,\n",
    "                                     result_key: str,\n",
    "                                     reverse: bool = True) -> List[Tuple[str, int]]:\n",
    "    \"\"\"Create an ordered dictionary sorted by a user-defined key\n",
    "    and return the top N results in descending order.\"\"\"\n",
    "\n",
    "    most_freq_queries = []\n",
    "    result = OrderedDict(sorted(dictionary.items(),\n",
    "                                key = lambda x: getitem(x[1], result_key),\n",
    "                                reverse=reverse))\n",
    "    top_queries = list(result.keys())[:num_results]\n",
    "    for query in top_queries:\n",
    "        result_val = result[query][result_key]\n",
    "        most_freq_queries.append((query, result_val))\n",
    "\n",
    "    return most_freq_queries"
   ]
  },
  {
   "cell_type": "code",
   "execution_count": 47,
   "metadata": {
    "ExecuteTime": {
     "end_time": "2021-05-12T21:59:32.672774Z",
     "start_time": "2021-05-12T21:59:32.664828Z"
    }
   },
   "outputs": [
    {
     "name": "stdout",
     "output_type": "stream",
     "text": [
      "The top 5 queries in terms of total number of search results clicked: [('crop', 58), ('hemosalpinx', 47), ('kerchunk', 46), ('entosphere', 45), ('contrabandage', 44)]\n"
     ]
    }
   ],
   "source": [
    "#  Find top queires by search result clicks\n",
    "most_freq_queries = find_top_results(agg_dict, N, \"num results clicked\")\n",
    "print(\"The top {} queries in terms of total number of search results clicked: {}\".format(N,\n",
    "        most_freq_queries))"
   ]
  },
  {
   "cell_type": "code",
   "execution_count": 48,
   "metadata": {
    "ExecuteTime": {
     "end_time": "2021-05-12T22:00:07.030451Z",
     "start_time": "2021-05-12T22:00:07.024297Z"
    }
   },
   "outputs": [
    {
     "name": "stdout",
     "output_type": "stream",
     "text": [
      "The top 5 most issued queries are: [('crop', 21), ('entosphere', 19), ('gaudete', 17), ('beaconless', 16), ('coachmaking', 16)]\n"
     ]
    }
   ],
   "source": [
    "#  Find top issued queries\n",
    "top_queries = find_top_results(agg_dict, N, \"num queries\")  \n",
    "print(\"The top {} most issued queries are: {}\".format(N, top_queries))"
   ]
  }
 ],
 "metadata": {
  "kernelspec": {
   "display_name": "Python 3",
   "language": "python",
   "name": "python3"
  },
  "language_info": {
   "codemirror_mode": {
    "name": "ipython",
    "version": 3
   },
   "file_extension": ".py",
   "mimetype": "text/x-python",
   "name": "python",
   "nbconvert_exporter": "python",
   "pygments_lexer": "ipython3",
   "version": "3.6.4"
  },
  "toc": {
   "base_numbering": 1,
   "nav_menu": {},
   "number_sections": true,
   "sideBar": true,
   "skip_h1_title": true,
   "title_cell": "Table of Contents",
   "title_sidebar": "Contents",
   "toc_cell": false,
   "toc_position": {},
   "toc_section_display": true,
   "toc_window_display": false
  },
  "varInspector": {
   "cols": {
    "lenName": 16,
    "lenType": 16,
    "lenVar": 40
   },
   "kernels_config": {
    "python": {
     "delete_cmd_postfix": "",
     "delete_cmd_prefix": "del ",
     "library": "var_list.py",
     "varRefreshCmd": "print(var_dic_list())"
    },
    "r": {
     "delete_cmd_postfix": ") ",
     "delete_cmd_prefix": "rm(",
     "library": "var_list.r",
     "varRefreshCmd": "cat(var_dic_list()) "
    }
   },
   "types_to_exclude": [
    "module",
    "function",
    "builtin_function_or_method",
    "instance",
    "_Feature"
   ],
   "window_display": false
  }
 },
 "nbformat": 4,
 "nbformat_minor": 4
}
